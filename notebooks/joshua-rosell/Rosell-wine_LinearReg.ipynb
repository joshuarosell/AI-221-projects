{
 "cells": [
  {
   "cell_type": "code",
   "execution_count": 1,
   "metadata": {},
   "outputs": [],
   "source": [
    "import pandas as pd\n",
    "import matplotlib.pyplot as plt\n",
    "from sklearn.model_selection import train_test_split\n",
    "from sklearn.pipeline import make_pipeline\n",
    "import numpy as np\n",
    "from sklearn.preprocessing import StandardScaler\n",
    "from sklearn.linear_model import Ridge"
   ]
  },
  {
   "cell_type": "code",
   "execution_count": 2,
   "metadata": {},
   "outputs": [],
   "source": [
    "df_red = pd.read_csv('winequality-red.csv')"
   ]
  },
  {
   "cell_type": "code",
   "execution_count": 3,
   "metadata": {},
   "outputs": [],
   "source": [
    "df_white = pd.read_csv('winequality-white.csv')"
   ]
  },
  {
   "cell_type": "code",
   "execution_count": 4,
   "metadata": {},
   "outputs": [
    {
     "data": {
      "text/html": [
       "<div>\n",
       "<style scoped>\n",
       "    .dataframe tbody tr th:only-of-type {\n",
       "        vertical-align: middle;\n",
       "    }\n",
       "\n",
       "    .dataframe tbody tr th {\n",
       "        vertical-align: top;\n",
       "    }\n",
       "\n",
       "    .dataframe thead th {\n",
       "        text-align: right;\n",
       "    }\n",
       "</style>\n",
       "<table border=\"1\" class=\"dataframe\">\n",
       "  <thead>\n",
       "    <tr style=\"text-align: right;\">\n",
       "      <th></th>\n",
       "      <th>fixed acidity</th>\n",
       "      <th>volatile acidity</th>\n",
       "      <th>citric acid</th>\n",
       "      <th>residual sugar</th>\n",
       "      <th>chlorides</th>\n",
       "      <th>free sulfur dioxide</th>\n",
       "      <th>total sulfur dioxide</th>\n",
       "      <th>density</th>\n",
       "      <th>pH</th>\n",
       "      <th>sulphates</th>\n",
       "      <th>alcohol</th>\n",
       "      <th>quality</th>\n",
       "      <th>type</th>\n",
       "    </tr>\n",
       "  </thead>\n",
       "  <tbody>\n",
       "    <tr>\n",
       "      <th>0</th>\n",
       "      <td>7.4</td>\n",
       "      <td>0.70</td>\n",
       "      <td>0.00</td>\n",
       "      <td>1.9</td>\n",
       "      <td>0.076</td>\n",
       "      <td>11.0</td>\n",
       "      <td>34.0</td>\n",
       "      <td>0.9978</td>\n",
       "      <td>3.51</td>\n",
       "      <td>0.56</td>\n",
       "      <td>9.4</td>\n",
       "      <td>5</td>\n",
       "      <td>red</td>\n",
       "    </tr>\n",
       "    <tr>\n",
       "      <th>1</th>\n",
       "      <td>7.8</td>\n",
       "      <td>0.88</td>\n",
       "      <td>0.00</td>\n",
       "      <td>2.6</td>\n",
       "      <td>0.098</td>\n",
       "      <td>25.0</td>\n",
       "      <td>67.0</td>\n",
       "      <td>0.9968</td>\n",
       "      <td>3.20</td>\n",
       "      <td>0.68</td>\n",
       "      <td>9.8</td>\n",
       "      <td>5</td>\n",
       "      <td>red</td>\n",
       "    </tr>\n",
       "    <tr>\n",
       "      <th>2</th>\n",
       "      <td>7.8</td>\n",
       "      <td>0.76</td>\n",
       "      <td>0.04</td>\n",
       "      <td>2.3</td>\n",
       "      <td>0.092</td>\n",
       "      <td>15.0</td>\n",
       "      <td>54.0</td>\n",
       "      <td>0.9970</td>\n",
       "      <td>3.26</td>\n",
       "      <td>0.65</td>\n",
       "      <td>9.8</td>\n",
       "      <td>5</td>\n",
       "      <td>red</td>\n",
       "    </tr>\n",
       "    <tr>\n",
       "      <th>3</th>\n",
       "      <td>11.2</td>\n",
       "      <td>0.28</td>\n",
       "      <td>0.56</td>\n",
       "      <td>1.9</td>\n",
       "      <td>0.075</td>\n",
       "      <td>17.0</td>\n",
       "      <td>60.0</td>\n",
       "      <td>0.9980</td>\n",
       "      <td>3.16</td>\n",
       "      <td>0.58</td>\n",
       "      <td>9.8</td>\n",
       "      <td>6</td>\n",
       "      <td>red</td>\n",
       "    </tr>\n",
       "    <tr>\n",
       "      <th>4</th>\n",
       "      <td>7.4</td>\n",
       "      <td>0.70</td>\n",
       "      <td>0.00</td>\n",
       "      <td>1.9</td>\n",
       "      <td>0.076</td>\n",
       "      <td>11.0</td>\n",
       "      <td>34.0</td>\n",
       "      <td>0.9978</td>\n",
       "      <td>3.51</td>\n",
       "      <td>0.56</td>\n",
       "      <td>9.4</td>\n",
       "      <td>5</td>\n",
       "      <td>red</td>\n",
       "    </tr>\n",
       "  </tbody>\n",
       "</table>\n",
       "</div>"
      ],
      "text/plain": [
       "   fixed acidity  volatile acidity  citric acid  residual sugar  chlorides  \\\n",
       "0            7.4              0.70         0.00             1.9      0.076   \n",
       "1            7.8              0.88         0.00             2.6      0.098   \n",
       "2            7.8              0.76         0.04             2.3      0.092   \n",
       "3           11.2              0.28         0.56             1.9      0.075   \n",
       "4            7.4              0.70         0.00             1.9      0.076   \n",
       "\n",
       "   free sulfur dioxide  total sulfur dioxide  density    pH  sulphates  \\\n",
       "0                 11.0                  34.0   0.9978  3.51       0.56   \n",
       "1                 25.0                  67.0   0.9968  3.20       0.68   \n",
       "2                 15.0                  54.0   0.9970  3.26       0.65   \n",
       "3                 17.0                  60.0   0.9980  3.16       0.58   \n",
       "4                 11.0                  34.0   0.9978  3.51       0.56   \n",
       "\n",
       "   alcohol  quality type  \n",
       "0      9.4        5  red  \n",
       "1      9.8        5  red  \n",
       "2      9.8        5  red  \n",
       "3      9.8        6  red  \n",
       "4      9.4        5  red  "
      ]
     },
     "execution_count": 4,
     "metadata": {},
     "output_type": "execute_result"
    }
   ],
   "source": [
    "# Add a new column to each dataframe to indicate the type of wine\n",
    "df_red['type'] = 'red'\n",
    "df_white['type'] = 'white'\n",
    "\n",
    "# Combine the dataframes\n",
    "df = pd.concat([df_red, df_white], ignore_index=True)\n",
    "\n",
    "# Display the combined dataframe\n",
    "df.head()"
   ]
  },
  {
   "cell_type": "markdown",
   "metadata": {},
   "source": [
    "The code performs three main operations to prepare a combined wine dataset:\n",
    "\n",
    "1. **Adding Wine Type Labels**\n",
    "   - Creates a new column called 'type' in the red wine DataFrame (`df_red`)\n",
    "   - Assigns the value 'red' to all rows in this column\n",
    "   - Similarly adds a 'type' column to the white wine DataFrame (`df_white`)\n",
    "   - Assigns the value 'white' to all rows in this column\n",
    "   - This labeling helps distinguish between red and white wines after combining\n",
    "\n",
    "2. **Combining Datasets**\n",
    "   - Uses pandas' `concat()` function to merge the red and white wine DataFrames\n",
    "   - Takes a list of DataFrames `[df_red, df_white]` as input\n",
    "   - The `ignore_index=True` parameter resets the index of the combined DataFrame\n",
    "   - This prevents duplicate index values from the original DataFrames\n",
    "   - Creates a new DataFrame `df` containing all rows from both wine datasets\n",
    "\n",
    "3. **Previewing Results**\n",
    "   - Calls `head()` to display the first 5 rows of the combined DataFrame\n",
    "   - Useful for verifying the merge operation was successful\n",
    "   - Confirms the 'type' column is present and properly populated"
   ]
  },
  {
   "cell_type": "code",
   "execution_count": 5,
   "metadata": {},
   "outputs": [],
   "source": [
    "# Separate features and target variable\n",
    "X = df.iloc[:, 0:11]  # Features from columns 0 to 10, alcohol is column 10\n",
    "y = df.iloc[:, 11]    # Target variable from column 11, quality is the target variable"
   ]
  },
  {
   "cell_type": "markdown",
   "metadata": {},
   "source": [
    "This code splits the wine dataset into features and the target variable. Features start from fixed acidity until alcohol as the last column."
   ]
  },
  {
   "cell_type": "markdown",
   "metadata": {},
   "source": [
    "- Uses pandas' `iloc` indexer to select data using integer positions\n",
    "- Selects all rows (`:`) and columns 0 through 10 (`0:11`)\n",
    "- Includes wine characteristics like acidity, pH, sulfates, etc.\n",
    "- The last feature (column 10) is alcohol content\n",
    "\n",
    "The second line extracts the target variable. Target variable is quality."
   ]
  },
  {
   "cell_type": "markdown",
   "metadata": {},
   "source": [
    "- Selects all rows and only column 11\n",
    "- Contains the wine quality ratings\n",
    "- Will be used as the prediction target for the model"
   ]
  },
  {
   "cell_type": "markdown",
   "metadata": {},
   "source": [
    "This is essential in machine learning workflows as it prepares data in the format expected by most ML algorithms - separate feature and target variables."
   ]
  },
  {
   "cell_type": "code",
   "execution_count": 6,
   "metadata": {},
   "outputs": [
    {
     "name": "stdout",
     "output_type": "stream",
     "text": [
      "Training set size: 4547\n",
      "Validation set size: 975\n",
      "Test set size: 975\n"
     ]
    }
   ],
   "source": [
    "# Split the data into training and remaining data (30% of the original data)\n",
    "X_train, X_temp, y_train, y_temp = train_test_split(X, y, test_size=0.3, random_state=42)\n",
    "\n",
    "# Split the remaining data into validation and test sets (each 15% of the original data)\n",
    "X_val, X_test, y_val, y_test = train_test_split(X_temp, y_temp, test_size=0.5, random_state=42)\n",
    "\n",
    "# Display the sizes of the splits\n",
    "print(f'Training set size: {X_train.shape[0]}')\n",
    "print(f'Validation set size: {X_val.shape[0]}')\n",
    "print(f'Test set size: {X_test.shape[0]}')"
   ]
  },
  {
   "cell_type": "markdown",
   "metadata": {},
   "source": [
    "This code performs a two-stage split of the dataset to create training, validation, and test sets.\n",
    "\n",
    "#### First Split\n",
    "The first line splits the data into two parts:\n",
    "- Training data (`X_train`, `y_train`): 70% of the original data\n",
    "- Temporary data (`X_temp`, `y_temp`): 30% of the original data\n",
    "- Uses `random_state=42` for reproducibility\n",
    "- The split is performed on both features (`X`) and target variables (`y`) simultaneously\n",
    "\n",
    "#### Second Split\n",
    "The second line further divides the temporary data:\n",
    "- Validation data (`X_val`, `y_val`): Half of the temporary data (15% of original)\n",
    "- Test data (`X_test`, `y_test`): Other half (15% of original)\n",
    "- Uses the same random state for consistency\n",
    "- This creates the final validation and test sets\n",
    "\n",
    "#### Size Verification\n",
    "The code then prints the size of each split using f-strings:\n",
    "- Accesses the number of rows using `.shape[0]`\n",
    "- Helps verify the splits were done correctly\n",
    "\n",
    "\n",
    "This is standard practice in machine learning to ensure proper model evaluation and avoid data leakage between training, validation, and final testing."
   ]
  },
  {
   "cell_type": "code",
   "execution_count": 7,
   "metadata": {},
   "outputs": [
    {
     "name": "stdout",
     "output_type": "stream",
     "text": [
      "Alpha: 0.0\n",
      "\tCoefficients: [ 0.10311247 -0.22412306 -0.02201945  0.23367211 -0.00192778  0.12110596\n",
      " -0.14893833 -0.18557741  0.07346751  0.11875887  0.32548372]\n",
      "\tIntercept: 5.820101165603701\n",
      "\tTraining accuracy (R2): 0.2998754182892185\n",
      "\tValidation accuracy (R2): 0.2783802129030455\n",
      "Alpha: 0.1\n",
      "\tCoefficients: [ 0.10306944 -0.22412224 -0.02201321  0.23360929 -0.00193827  0.1210979\n",
      " -0.14892184 -0.18549463  0.07344137  0.11874805  0.32550985]\n",
      "\tIntercept: 5.820101165603701\n",
      "\tTraining accuracy (R2): 0.29987541735756285\n",
      "\tValidation accuracy (R2): 0.27838310921596054\n",
      "Alpha: 0.5\n",
      "\tCoefficients: [ 0.10289785 -0.22411887 -0.02198828  0.23335872 -0.00198016  0.12106566\n",
      " -0.14885601 -0.18516462  0.07333711  0.11870488  0.32561387]\n",
      "\tIntercept: 5.820101165603701\n",
      "\tTraining accuracy (R2): 0.2998753950802735\n",
      "\tValidation accuracy (R2): 0.27839466645818256\n",
      "Alpha: 1.0\n",
      "\tCoefficients: [ 0.10268451 -0.2241144  -0.02195713  0.23304711 -0.00203233  0.12102538\n",
      " -0.14877396 -0.18475459  0.0732075   0.11865118  0.32574278]\n",
      "\tIntercept: 5.820101165603701\n",
      "\tTraining accuracy (R2): 0.2998753258621897\n",
      "\tValidation accuracy (R2): 0.2784090504498479\n",
      "Alpha: 5.0\n",
      "\tCoefficients: [ 0.10102246 -0.22406861 -0.02170891  0.23061618 -0.00244244  0.12070421\n",
      " -0.14812682 -0.18157051  0.07219837  0.11823181  0.32673057]\n",
      "\tIntercept: 5.820101165603701\n",
      "\tTraining accuracy (R2): 0.2998731860138285\n",
      "\tValidation accuracy (R2): 0.27852170629053274\n",
      "Alpha: 10.0\n",
      "\tCoefficients: [ 0.09905005 -0.22398798 -0.02140095  0.22772346 -0.0029379   0.12030532\n",
      " -0.14733992 -0.17781668  0.07100225  0.11773165  0.3278631 ]\n",
      "\tIntercept: 5.820101165603701\n",
      "\tTraining accuracy (R2): 0.299866850267163\n",
      "\tValidation accuracy (R2): 0.2786568705002791\n",
      "Alpha: 50.0\n",
      "\tCoefficients: [ 0.08646762 -0.22265845 -0.01902503  0.2090208  -0.00636721  0.1172132\n",
      " -0.14173574 -0.15463517  0.06341535  0.11445688  0.33384925]\n",
      "\tIntercept: 5.8201011656037\n",
      "\tTraining accuracy (R2): 0.29971192165515403\n",
      "\tValidation accuracy (R2): 0.2795668698511483\n",
      "Alpha: 100.0\n",
      "\tCoefficients: [ 0.07575883 -0.22001801 -0.016257    0.19262076 -0.00977126  0.11357875\n",
      " -0.1358943  -0.13630318  0.05703328  0.11148799  0.33662676]\n",
      "\tIntercept: 5.820101165603699\n",
      "\tTraining accuracy (R2): 0.2993588139409722\n",
      "\tValidation accuracy (R2): 0.2804162560802761\n"
     ]
    }
   ],
   "source": [
    "# Search over different regularization parameter values\n",
    "max_R2 = 0\n",
    "best_alpha = 0\n",
    "best_mdl = 0\n",
    "for alpha in np.array([0, 0.1, 0.5, 1, 5, 10, 50, 100]):\n",
    "    mdl = make_pipeline(StandardScaler(),\n",
    "                        Ridge(alpha=alpha)).fit(X_train,y_train)\n",
    "    print(f\"Alpha: {alpha}\")\n",
    "    train_R2 = mdl.score(X_train,y_train)\n",
    "    val_R2 = mdl.score(X_val,y_val)\n",
    "    print(f\"\\tCoefficients: {mdl[1].coef_}\")\n",
    "    print(f\"\\tIntercept: {mdl[1].intercept_}\")\n",
    "    print(f\"\\tTraining accuracy (R2): {train_R2}\")\n",
    "    print(f\"\\tValidation accuracy (R2): {val_R2}\")\n",
    "    if val_R2 > max_R2:\n",
    "        max_R2 = val_R2\n",
    "        best_alpha = alpha\n",
    "        best_mdl = mdl"
   ]
  },
  {
   "cell_type": "markdown",
   "metadata": {},
   "source": [
    "This code implements a grid search over different regularization parameters (alpha values) for Ridge regression. It uses both training and validation sets to find the optimal regularization strength."
   ]
  },
  {
   "cell_type": "markdown",
   "metadata": {},
   "source": [
    "The variables max_R2, best_alpha, and best_mdl track the best performing model configuration:\n",
    "- `max_R2`: Stores the highest validation R² score\n",
    "- `best_alpha`: Stores the alpha value that produced the best score\n",
    "- `best_mdl`: Stores the best performing model\n",
    "\n",
    "The code iterates through different alpha values `[0, 0.1, 0.5, 1, 5, 10, 50, 100]`. For each value:\n",
    "\n",
    "1. Creates a pipeline combining:\n",
    "   - `StandardScaler()`: Normalizes the features\n",
    "   - `Ridge(alpha=alpha)`: Ridge regression with current alpha value\n",
    "\n",
    "2. Evaluates model performance:\n",
    "   - Calculates R² score on training data\n",
    "   - Calculates R² score on validation data\n",
    "   - Prints model coefficients, intercept, and performance metrics\n",
    "\n",
    "3. Updates best model tracking:\n",
    "   - If current validation R² exceeds previous best\n",
    "   - Stores current alpha, R², and model\n",
    "\n",
    "\n",
    "This is common in machine learning for finding optimal hyperparameters while avoiding overfitting."
   ]
  },
  {
   "cell_type": "code",
   "execution_count": 8,
   "metadata": {},
   "outputs": [
    {
     "name": "stdout",
     "output_type": "stream",
     "text": [
      "Best alpha: 100.0\n",
      "Coefficients: [ 0.07575883 -0.22001801 -0.016257    0.19262076 -0.00977126  0.11357875\n",
      " -0.1358943  -0.13630318  0.05703328  0.11148799  0.33662676]\n",
      "Intercept: 5.820101165603699\n",
      "Testing accuracy (R2) of Best Model: 0.2653444439582907\n"
     ]
    },
    {
     "data": {
      "image/png": "[encoded data removed]",
      "text/plain": [
       "<Figure size 640x480 with 1 Axes>"
      ]
     },
     "metadata": {},
     "output_type": "display_data"
    }
   ],
   "source": [
    "# Print results of the best model\n",
    "print(f\"Best alpha: {best_alpha}\")\n",
    "print(f\"Coefficients: {best_mdl[1].coef_}\")\n",
    "print(f\"Intercept: {best_mdl[1].intercept_}\")\n",
    "\n",
    "# Plot the Actual vs. Predicted values\n",
    "test_R2 = best_mdl.score(X_test,y_test)\n",
    "print(f\"Testing accuracy (R2) of Best Model: {test_R2}\")\n",
    "y_train_pred = best_mdl.predict(X_train)\n",
    "y_val_pred = best_mdl.predict(X_val)\n",
    "y_test_pred = best_mdl.predict(X_test)\n",
    "plt.plot(np.array([0, 10]),np.array([0, 10]),color='k',label='_nolegend_')\n",
    "# plt.plot([y_test.min(), y_test.max()], [y_test.min(), y_test.max()], color='k')\n",
    "plt.scatter(y_train, y_train_pred, alpha=0.3, label=\"Training\")\n",
    "plt.scatter(y_val, y_val_pred, alpha=0.5, label=\"Validation\")\n",
    "plt.scatter(y_test, y_test_pred, alpha=0.7, label=\"Testing\")\n",
    "plt.xlabel('Actual')\n",
    "plt.ylabel('Predicted')\n",
    "plt.legend()\n",
    "plt.show()\n",
    "\n"
   ]
  },
  {
   "cell_type": "markdown",
   "metadata": {},
   "source": [
    "The code first prints key information about the best performing model:\n",
    "- The optimal alpha (regularization parameter)\n",
    "- The model coefficients for each feature\n",
    "- The intercept term (bias)\n",
    "\n",
    "The code then evaluates the model's performance on the test set:\n",
    "- Calculates and prints the R² score on the test data\n",
    "- Makes predictions on all three data splits (train, validation, test)\n",
    "- These predictions will be used for visualization\n",
    "\n",
    "A scatter plot is created to compare actual vs predicted values:\n",
    "\n",
    "1. **Reference Line**\n",
    "   - Draws a diagonal black line from (0,0) to (10,10)\n",
    "   - Represents perfect predictions where actual equals predicted\n",
    "   - Uses `label='_nolegend_'` to exclude it from the legend\n",
    "\n",
    "2. **Data Points**\n",
    "   - Training data: Light opacity (alpha=0.3)\n",
    "   - Validation data: Medium opacity (alpha=0.5)\n",
    "   - Test data: High opacity (alpha=0.7)\n",
    "   - Different opacities help distinguish the three sets\n",
    "\n",
    "3. **Plot Formatting**\n",
    "   - Adds axis labels (\"Actual\" and \"Predicted\")\n",
    "   - Includes a legend to identify each dataset\n",
    "   - Uses `plt.show()` to display the plot\n",
    "\n",
    "This visualization is common in regression analysis to assess model performance across different data splits."
   ]
  }
 ],
 "metadata": {
  "kernelspec": {
   "display_name": ".venv",
   "language": "python",
   "name": "python3"
  },
  "language_info": {
   "codemirror_mode": {
    "name": "ipython",
    "version": 3
   },
   "file_extension": ".py",
   "mimetype": "text/x-python",
   "name": "python",
   "nbconvert_exporter": "python",
   "pygments_lexer": "ipython3",
   "version": "3.12.7"
  }
 },
 "nbformat": 4,
 "nbformat_minor": 2
}
