{
 "cells": [
  {
   "cell_type": "markdown",
   "metadata": {},
   "source": [
    "### Support Vector Machine - Car Dataset\n",
    "Joshua Rosell"
   ]
  },
  {
   "cell_type": "markdown",
   "metadata": {},
   "source": [
    "Importing needed libraries."
   ]
  },
  {
   "cell_type": "code",
   "execution_count": 1,
   "metadata": {},
   "outputs": [],
   "source": [
    "import pandas as pd\n",
    "from sklearn.model_selection import train_test_split\n",
    "from sklearn.svm import SVC\n",
    "from sklearn.metrics import confusion_matrix\n",
    "from sklearn.multiclass import OneVsOneClassifier"
   ]
  },
  {
   "cell_type": "markdown",
   "metadata": {},
   "source": [
    "Reading the dataset and adding column names."
   ]
  },
  {
   "cell_type": "code",
   "execution_count": 2,
   "metadata": {},
   "outputs": [],
   "source": [
    "df = pd.read_csv('car_data.csv', header=None)\n",
    "df.columns = ['buying', 'maint', 'doors', 'persons', 'lug_boot', 'safety', 'class']"
   ]
  },
  {
   "cell_type": "markdown",
   "metadata": {},
   "source": [
    "Checking a few rows and the new column names."
   ]
  },
  {
   "cell_type": "code",
   "execution_count": 3,
   "metadata": {},
   "outputs": [
    {
     "data": {
      "text/html": [
       "<div>\n",
       "<style scoped>\n",
       "    .dataframe tbody tr th:only-of-type {\n",
       "        vertical-align: middle;\n",
       "    }\n",
       "\n",
       "    .dataframe tbody tr th {\n",
       "        vertical-align: top;\n",
       "    }\n",
       "\n",
       "    .dataframe thead th {\n",
       "        text-align: right;\n",
       "    }\n",
       "</style>\n",
       "<table border=\"1\" class=\"dataframe\">\n",
       "  <thead>\n",
       "    <tr style=\"text-align: right;\">\n",
       "      <th></th>\n",
       "      <th>buying</th>\n",
       "      <th>maint</th>\n",
       "      <th>doors</th>\n",
       "      <th>persons</th>\n",
       "      <th>lug_boot</th>\n",
       "      <th>safety</th>\n",
       "      <th>class</th>\n",
       "    </tr>\n",
       "  </thead>\n",
       "  <tbody>\n",
       "    <tr>\n",
       "      <th>0</th>\n",
       "      <td>vhigh</td>\n",
       "      <td>vhigh</td>\n",
       "      <td>2</td>\n",
       "      <td>2</td>\n",
       "      <td>small</td>\n",
       "      <td>low</td>\n",
       "      <td>unacc</td>\n",
       "    </tr>\n",
       "    <tr>\n",
       "      <th>1</th>\n",
       "      <td>vhigh</td>\n",
       "      <td>vhigh</td>\n",
       "      <td>2</td>\n",
       "      <td>2</td>\n",
       "      <td>small</td>\n",
       "      <td>med</td>\n",
       "      <td>unacc</td>\n",
       "    </tr>\n",
       "    <tr>\n",
       "      <th>2</th>\n",
       "      <td>vhigh</td>\n",
       "      <td>vhigh</td>\n",
       "      <td>2</td>\n",
       "      <td>2</td>\n",
       "      <td>small</td>\n",
       "      <td>high</td>\n",
       "      <td>unacc</td>\n",
       "    </tr>\n",
       "    <tr>\n",
       "      <th>3</th>\n",
       "      <td>vhigh</td>\n",
       "      <td>vhigh</td>\n",
       "      <td>2</td>\n",
       "      <td>2</td>\n",
       "      <td>med</td>\n",
       "      <td>low</td>\n",
       "      <td>unacc</td>\n",
       "    </tr>\n",
       "    <tr>\n",
       "      <th>4</th>\n",
       "      <td>vhigh</td>\n",
       "      <td>vhigh</td>\n",
       "      <td>2</td>\n",
       "      <td>2</td>\n",
       "      <td>med</td>\n",
       "      <td>med</td>\n",
       "      <td>unacc</td>\n",
       "    </tr>\n",
       "  </tbody>\n",
       "</table>\n",
       "</div>"
      ],
      "text/plain": [
       "  buying  maint doors persons lug_boot safety  class\n",
       "0  vhigh  vhigh     2       2    small    low  unacc\n",
       "1  vhigh  vhigh     2       2    small    med  unacc\n",
       "2  vhigh  vhigh     2       2    small   high  unacc\n",
       "3  vhigh  vhigh     2       2      med    low  unacc\n",
       "4  vhigh  vhigh     2       2      med    med  unacc"
      ]
     },
     "execution_count": 3,
     "metadata": {},
     "output_type": "execute_result"
    }
   ],
   "source": [
    "df.head()"
   ]
  },
  {
   "cell_type": "markdown",
   "metadata": {},
   "source": [
    "Checking if rows are complete."
   ]
  },
  {
   "cell_type": "code",
   "execution_count": 4,
   "metadata": {},
   "outputs": [
    {
     "data": {
      "text/plain": [
       "(1728, 7)"
      ]
     },
     "execution_count": 4,
     "metadata": {},
     "output_type": "execute_result"
    }
   ],
   "source": [
    "df.shape"
   ]
  },
  {
   "cell_type": "markdown",
   "metadata": {},
   "source": [
    "Counting frequencies for the variables to see if there is a class imbalance. Apparently, there is an imbalance in the target variable. This will be addressed in the succeeding codes."
   ]
  },
  {
   "cell_type": "code",
   "execution_count": 5,
   "metadata": {},
   "outputs": [
    {
     "name": "stdout",
     "output_type": "stream",
     "text": [
      "\n",
      "Frequency count for buying:\n",
      "buying\n",
      "vhigh    432\n",
      "high     432\n",
      "med      432\n",
      "low      432\n",
      "Name: count, dtype: int64\n",
      "\n",
      "Frequency count for maint:\n",
      "maint\n",
      "vhigh    432\n",
      "high     432\n",
      "med      432\n",
      "low      432\n",
      "Name: count, dtype: int64\n",
      "\n",
      "Frequency count for doors:\n",
      "doors\n",
      "2        432\n",
      "3        432\n",
      "4        432\n",
      "5more    432\n",
      "Name: count, dtype: int64\n",
      "\n",
      "Frequency count for persons:\n",
      "persons\n",
      "2       576\n",
      "4       576\n",
      "more    576\n",
      "Name: count, dtype: int64\n",
      "\n",
      "Frequency count for lug_boot:\n",
      "lug_boot\n",
      "small    576\n",
      "med      576\n",
      "big      576\n",
      "Name: count, dtype: int64\n",
      "\n",
      "Frequency count for safety:\n",
      "safety\n",
      "low     576\n",
      "med     576\n",
      "high    576\n",
      "Name: count, dtype: int64\n",
      "\n",
      "Frequency count for class:\n",
      "class\n",
      "unacc    1210\n",
      "acc       384\n",
      "good       69\n",
      "vgood      65\n",
      "Name: count, dtype: int64\n"
     ]
    }
   ],
   "source": [
    "# Count frequencies for each categorical variable\n",
    "for column in df.columns:\n",
    "    print(f\"\\nFrequency count for {column}:\")\n",
    "    print(df[column].value_counts())"
   ]
  },
  {
   "cell_type": "markdown",
   "metadata": {},
   "source": [
    "Separating features and target variable."
   ]
  },
  {
   "cell_type": "code",
   "execution_count": 6,
   "metadata": {},
   "outputs": [],
   "source": [
    "# Separate features and target variable\n",
    "X = df.iloc[:, 0:6]  # Features from columns 0 to 5, safety is column 5\n",
    "y = df.iloc[:, -1]    # Target variable from column 6, class is the target variable"
   ]
  },
  {
   "cell_type": "markdown",
   "metadata": {},
   "source": [
    "Ordinal encoding of features and target variable. This is done because most machine learning algorithms work well with numerical input. Ordinal since values of features and target variable seem to follow an integral order."
   ]
  },
  {
   "cell_type": "code",
   "execution_count": 7,
   "metadata": {},
   "outputs": [
    {
     "name": "stdout",
     "output_type": "stream",
     "text": [
      "Shape of encoded X: (1728, 6)\n",
      "Shape of encoded y: (1728,)\n",
      "\n",
      "First few rows of encoded X:\n",
      "    buying  maint  doors  persons  lug_boot  safety\n",
      "0     3.0    3.0    0.0      0.0       0.0     0.0\n",
      "1     3.0    3.0    0.0      0.0       0.0     1.0\n",
      "2     3.0    3.0    0.0      0.0       0.0     2.0\n",
      "3     3.0    3.0    0.0      0.0       1.0     0.0\n",
      "4     3.0    3.0    0.0      0.0       1.0     1.0\n",
      "\n",
      "First few values of encoded y:\n",
      " 0    0.0\n",
      "1    0.0\n",
      "2    0.0\n",
      "3    0.0\n",
      "4    0.0\n",
      "dtype: float64\n"
     ]
    }
   ],
   "source": [
    "from sklearn.preprocessing import OrdinalEncoder\n",
    "\n",
    "# Define the ordering for each feature\n",
    "feature_ordering = {\n",
    "    'buying': ['low', 'med', 'high', 'vhigh'],\n",
    "    'maint': ['low', 'med', 'high', 'vhigh'],\n",
    "    'doors': ['2', '3', '4', '5more'],\n",
    "    'persons': ['2', '4', 'more'],\n",
    "    'lug_boot': ['small', 'med', 'big'],\n",
    "    'safety': ['low', 'med', 'high']\n",
    "}\n",
    "\n",
    "# Create and fit ordinal encoder for features\n",
    "ord_enc_X = OrdinalEncoder(categories=[feature_ordering[col] for col in X.columns])\n",
    "X_encoded = ord_enc_X.fit_transform(X)\n",
    "\n",
    "# Create and fit ordinal encoder for target\n",
    "ord_enc_y = OrdinalEncoder(categories=[['unacc', 'acc', 'good', 'vgood']])\n",
    "y_encoded = ord_enc_y.fit_transform(y.values.reshape(-1, 1))\n",
    "\n",
    "# Convert back to dataframe/series for better handling\n",
    "X_encoded = pd.DataFrame(X_encoded, columns=X.columns)\n",
    "y_encoded = pd.Series(y_encoded.ravel())\n",
    "\n",
    "print(\"Shape of encoded X:\", X_encoded.shape)\n",
    "print(\"Shape of encoded y:\", y_encoded.shape)\n",
    "print(\"\\nFirst few rows of encoded X:\\n\", X_encoded.head())\n",
    "print(\"\\nFirst few values of encoded y:\\n\", y_encoded.head())"
   ]
  },
  {
   "cell_type": "markdown",
   "metadata": {},
   "source": [
    "Splitting the dataset."
   ]
  },
  {
   "cell_type": "code",
   "execution_count": 8,
   "metadata": {},
   "outputs": [
    {
     "name": "stdout",
     "output_type": "stream",
     "text": [
      "Training set size: 1382\n",
      "Test set size: 346\n"
     ]
    }
   ],
   "source": [
    "# Split the data into training and test sets\n",
    "X_train, X_test, y_train, y_test = train_test_split(X_encoded, y_encoded, test_size=0.2, random_state=0)\n",
    "\n",
    "# Display the sizes of the splits\n",
    "print(f'Training set size: {X_train.shape[0]}')\n",
    "print(f'Test set size: {X_test.shape[0]}')"
   ]
  },
  {
   "cell_type": "markdown",
   "metadata": {},
   "source": [
    "Counting frequency of class labels to address imbalance."
   ]
  },
  {
   "cell_type": "code",
   "execution_count": 9,
   "metadata": {},
   "outputs": [
    {
     "data": {
      "text/plain": [
       "0.0    970\n",
       "1.0    305\n",
       "3.0     55\n",
       "2.0     52\n",
       "Name: count, dtype: int64"
      ]
     },
     "execution_count": 9,
     "metadata": {},
     "output_type": "execute_result"
    }
   ],
   "source": [
    "y_train.value_counts()"
   ]
  },
  {
   "cell_type": "markdown",
   "metadata": {},
   "source": [
    "Using SMOTE to handle class imbalance."
   ]
  },
  {
   "cell_type": "code",
   "execution_count": 10,
   "metadata": {},
   "outputs": [
    {
     "name": "stdout",
     "output_type": "stream",
     "text": [
      "Original class distribution:\n",
      "0.0    970\n",
      "1.0    305\n",
      "3.0     55\n",
      "2.0     52\n",
      "Name: count, dtype: int64\n",
      "\n",
      "Balanced class distribution:\n",
      "0.0    970\n",
      "1.0    970\n",
      "2.0    970\n",
      "3.0    970\n",
      "Name: count, dtype: int64\n"
     ]
    }
   ],
   "source": [
    "from imblearn.over_sampling import SMOTE\n",
    "\n",
    "# Initialize SMOTE\n",
    "smote = SMOTE(random_state=0)\n",
    "\n",
    "# Apply SMOTE to training data\n",
    "X_train_balanced, y_train_balanced = smote.fit_resample(X_train, y_train)\n",
    "\n",
    "# Print the distribution of classes before and after SMOTE\n",
    "print(\"Original class distribution:\")\n",
    "print(y_train.value_counts())\n",
    "print(\"\\nBalanced class distribution:\")\n",
    "print(y_train_balanced.value_counts())"
   ]
  },
  {
   "cell_type": "markdown",
   "metadata": {},
   "source": [
    "Create a base classifier, train, and test the model. "
   ]
  },
  {
   "cell_type": "code",
   "execution_count": 11,
   "metadata": {},
   "outputs": [
    {
     "name": "stdout",
     "output_type": "stream",
     "text": [
      "\n",
      "Confusion Matrix:\n",
      " [[228  12   0   0]\n",
      " [  0  75   4   0]\n",
      " [  0   0  17   0]\n",
      " [  0   1   0   9]]\n"
     ]
    }
   ],
   "source": [
    "# Create OneVsOne SVM classifier\n",
    "ovo_clf = OneVsOneClassifier(SVC(kernel='rbf', random_state=0))\n",
    "\n",
    "# Train the classifier\n",
    "ovo_clf.fit(X_train_balanced, y_train_balanced)\n",
    "\n",
    "# Make predictions and print performance metrics\n",
    "y_pred = ovo_clf.predict(X_test)\n",
    "print(\"\\nConfusion Matrix:\\n\", confusion_matrix(y_test, y_pred))"
   ]
  },
  {
   "cell_type": "code",
   "execution_count": 12,
   "metadata": {},
   "outputs": [
    {
     "data": {
      "text/plain": [
       "0.9508670520231214"
      ]
     },
     "execution_count": 12,
     "metadata": {},
     "output_type": "execute_result"
    }
   ],
   "source": [
    "(228+75+17+9)/(228+75+17+9+12+4+1)"
   ]
  },
  {
   "cell_type": "code",
   "execution_count": 13,
   "metadata": {},
   "outputs": [
    {
     "name": "stdout",
     "output_type": "stream",
     "text": [
      "Accuracy: 0.9508670520231214\n"
     ]
    }
   ],
   "source": [
    "print(\"Accuracy:\", ovo_clf.score(X_test, y_test))"
   ]
  },
  {
   "cell_type": "markdown",
   "metadata": {},
   "source": [
    "Perform hyperparameter tuning using random search. 5-fold cross validation is used within the randomized search. "
   ]
  },
  {
   "cell_type": "code",
   "execution_count": 14,
   "metadata": {},
   "outputs": [
    {
     "name": "stdout",
     "output_type": "stream",
     "text": [
      "Best parameters: {'estimator__C': np.float64(7.7451749526023), 'estimator__class_weight': 'balanced', 'estimator__degree': 3, 'estimator__gamma': np.float64(0.7776492451078378), 'estimator__kernel': 'rbf'}\n",
      "Best cross-validation accuracy: 0.9992268041237115\n",
      "Test set accuracy: 0.9884393063583815\n"
     ]
    }
   ],
   "source": [
    "from sklearn.model_selection import RandomizedSearchCV\n",
    "from scipy.stats import uniform, loguniform\n",
    "import numpy as np\n",
    "\n",
    "# Define the parameter space\n",
    "param_distributions = {\n",
    "    'estimator__C': loguniform(1e-3, 1e3),\n",
    "    'estimator__gamma': loguniform(1e-4, 1e1),\n",
    "    'estimator__kernel': ['rbf', 'poly', 'sigmoid'],\n",
    "    'estimator__degree': [2, 3, 4],  # only relevant for poly kernel\n",
    "    'estimator__class_weight': ['balanced', None]\n",
    "}\n",
    "\n",
    "# Create the base classifier\n",
    "base_clf = OneVsOneClassifier(SVC(random_state=0))\n",
    "\n",
    "# Create RandomizedSearchCV\n",
    "random_search = RandomizedSearchCV(\n",
    "    base_clf,\n",
    "    param_distributions=param_distributions,\n",
    "    n_iter=20,\n",
    "    cv=5,\n",
    "    scoring='accuracy',\n",
    "    random_state=0,\n",
    "    n_jobs=-1\n",
    ")\n",
    "\n",
    "# Fit on the balanced training data\n",
    "random_search.fit(X_train_balanced, y_train_balanced)\n",
    "\n",
    "# Print the best parameters and score\n",
    "print(\"Best parameters:\", random_search.best_params_)\n",
    "print(\"Best cross-validation accuracy:\", random_search.best_score_)\n",
    "print(\"Test set accuracy:\", random_search.score(X_test, y_test))"
   ]
  },
  {
   "cell_type": "markdown",
   "metadata": {},
   "source": [
    "Creating a new model with the best parameters found."
   ]
  },
  {
   "cell_type": "code",
   "execution_count": 15,
   "metadata": {},
   "outputs": [
    {
     "name": "stdout",
     "output_type": "stream",
     "text": [
      "Training accuracy: 1.0\n",
      "Test accuracy: 0.9884393063583815\n"
     ]
    }
   ],
   "source": [
    "# Get the best parameters from random search\n",
    "best_params = random_search.best_params_\n",
    "\n",
    "# Create a new SVC with the best parameters\n",
    "best_svc = SVC(\n",
    "    C=best_params['estimator__C'],\n",
    "    gamma=best_params['estimator__gamma'],\n",
    "    kernel=best_params['estimator__kernel'],\n",
    "    degree=best_params['estimator__degree'],\n",
    "    class_weight=best_params['estimator__class_weight'],\n",
    "    random_state=0\n",
    ")\n",
    "\n",
    "# Create OneVsOne classifier with the best SVC\n",
    "best_model = OneVsOneClassifier(best_svc)\n",
    "\n",
    "# Train the model on the balanced training data\n",
    "best_model.fit(X_train_balanced, y_train_balanced)\n",
    "\n",
    "# Evaluate the model\n",
    "print(\"Training accuracy:\", best_model.score(X_train_balanced, y_train_balanced))\n",
    "print(\"Test accuracy:\", best_model.score(X_test, y_test))"
   ]
  },
  {
   "cell_type": "markdown",
   "metadata": {},
   "source": [
    "Printing the classification report."
   ]
  },
  {
   "cell_type": "code",
   "execution_count": 16,
   "metadata": {},
   "outputs": [
    {
     "name": "stdout",
     "output_type": "stream",
     "text": [
      "Classification Report with Best Model:\n",
      "              precision    recall  f1-score   support\n",
      "\n",
      "         acc       0.97      0.97      0.97        79\n",
      "        good       0.89      1.00      0.94        17\n",
      "       unacc       1.00      1.00      1.00       240\n",
      "       vgood       1.00      0.90      0.95        10\n",
      "\n",
      "    accuracy                           0.99       346\n",
      "   macro avg       0.97      0.97      0.97       346\n",
      "weighted avg       0.99      0.99      0.99       346\n",
      "\n"
     ]
    }
   ],
   "source": [
    "from sklearn.metrics import classification_report\n",
    "\n",
    "# Get predictions from the best model\n",
    "best_predictions = best_model.predict(X_test)\n",
    "\n",
    "# Convert numerical predictions back to original class labels\n",
    "y_test_original = ord_enc_y.inverse_transform(y_test.values.reshape(-1, 1)).ravel()\n",
    "best_predictions_original = ord_enc_y.inverse_transform(best_predictions.reshape(-1, 1)).ravel()\n",
    "\n",
    "# Generate and print the classification report\n",
    "print(\"Classification Report with Best Model:\")\n",
    "print(classification_report(y_test_original, best_predictions_original))"
   ]
  },
  {
   "cell_type": "code",
   "execution_count": 17,
   "metadata": {},
   "outputs": [
    {
     "data": {
      "image/png": "[encoded data removed]",
      "text/plain": [
       "<Figure size 1000x800 with 2 Axes>"
      ]
     },
     "metadata": {},
     "output_type": "display_data"
    }
   ],
   "source": [
    "import seaborn as sns\n",
    "\n",
    "import matplotlib.pyplot as plt\n",
    "\n",
    "# Create confusion matrix with percentages\n",
    "cm = confusion_matrix(y_test_original, best_predictions_original)\n",
    "cm_normalized = cm.astype('float') / cm.sum(axis=1)[:, np.newaxis] * 100\n",
    "\n",
    "# Create a heatmap\n",
    "plt.figure(figsize=(10, 8))\n",
    "sns.heatmap(cm, annot=True, fmt='d', cmap='Blues', \n",
    "            xticklabels=['unacc', 'acc', 'good', 'vgood'],\n",
    "            yticklabels=['unacc', 'acc', 'good', 'vgood'])\n",
    "plt.title('Confusion Matrix')\n",
    "plt.xlabel('Predicted')\n",
    "plt.ylabel('Actual')\n",
    "plt.tight_layout()\n",
    "plt.show()"
   ]
  },
  {
   "cell_type": "code",
   "execution_count": 18,
   "metadata": {},
   "outputs": [],
   "source": [
    "# Define ordinal encodings for features and target\n",
    "feature_ordering = {\n",
    "    'buying': ['low', 'med', 'high', 'vhigh'],\n",
    "    'maint': ['low', 'med', 'high', 'vhigh'],\n",
    "    'doors': ['2', '3', '4', '5more'],\n",
    "    'persons': ['2', '4', 'more'],\n",
    "    'lug_boot': ['small', 'med', 'big'],\n",
    "    'safety': ['low', 'med', 'high']\n",
    "}\n",
    "\n",
    "# Create ordinal encoder for features\n",
    "ord_enc_X = OrdinalEncoder(categories=[feature_ordering[col] for col in X.columns])\n",
    "X_encoded = ord_enc_X.fit_transform(X)\n",
    "\n",
    "# Create ordinal encoder for target with consistent class labels\n",
    "ord_enc_y = OrdinalEncoder(categories=[['unacc', 'acc', 'good', 'vgood']])\n",
    "y_encoded = ord_enc_y.fit_transform(y.values.reshape(-1, 1))\n",
    "\n",
    "# Convert back to dataframe/series\n",
    "X_encoded = pd.DataFrame(X_encoded, columns=X.columns)\n",
    "y_encoded = pd.Series(y_encoded.ravel())"
   ]
  },
  {
   "cell_type": "code",
   "execution_count": 19,
   "metadata": {},
   "outputs": [
    {
     "data": {
      "image/png": "[encoded data removed]",
      "text/plain": [
       "<Figure size 1000x800 with 2 Axes>"
      ]
     },
     "metadata": {},
     "output_type": "display_data"
    }
   ],
   "source": [
    "import seaborn as sns\n",
    "\n",
    "import matplotlib.pyplot as plt\n",
    "\n",
    "# Create a heatmap of the confusion matrix\n",
    "plt.figure(figsize=(10, 8))\n",
    "sns.heatmap(cm, annot=True, fmt='d', cmap='Blues',\n",
    "            xticklabels=['unacc', 'acc', 'good', 'vgood'],\n",
    "            yticklabels=['unacc', 'acc', 'good', 'vgood'])\n",
    "plt.title('Confusion Matrix')\n",
    "plt.xlabel('Predicted')\n",
    "plt.ylabel('Actual')\n",
    "plt.tight_layout()\n",
    "plt.show()"
   ]
  },
  {
   "cell_type": "code",
   "execution_count": null,
   "metadata": {},
   "outputs": [],
   "source": []
  }
 ],
 "metadata": {
  "kernelspec": {
   "display_name": ".venv",
   "language": "python",
   "name": "python3"
  },
  "language_info": {
   "codemirror_mode": {
    "name": "ipython",
    "version": 3
   },
   "file_extension": ".py",
   "mimetype": "text/x-python",
   "name": "python",
   "nbconvert_exporter": "python",
   "pygments_lexer": "ipython3",
   "version": "3.12.7"
  }
 },
 "nbformat": 4,
 "nbformat_minor": 2
}
